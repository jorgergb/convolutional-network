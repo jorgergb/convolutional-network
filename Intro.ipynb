{
 "cells": [
  {
   "cell_type": "markdown",
   "metadata": {},
   "source": [
    "### Tensorflow Convolution Layer"
   ]
  },
  {
   "cell_type": "code",
   "execution_count": 2,
   "metadata": {},
   "outputs": [],
   "source": [
    "# tf.nn.conv2d()\n",
    "# tf.nn.bias_add()\n",
    "\n",
    "import tensorflow as tf\n",
    "\n",
    "#output depth\n",
    "k_output = 64\n",
    "\n",
    "\n",
    "#image properties\n",
    "image_width = 10\n",
    "image_height = 10\n",
    "color_channels = 3\n",
    "\n",
    "#convolution filter\n",
    "filter_size_width = 5\n",
    "filter_size_height = 5\n",
    "\n",
    "#input/Image\n",
    "input = tf.placeholder(\\\n",
    "                      tf.float32,\n",
    "                      shape=[None,image_height, image_width, color_channels])\n",
    "\n",
    "#weight and bias\n",
    "weight = tf.Variable(tf.truncated_normal(\\\n",
    "    [filter_size_height, filter_size_width, color_channels, k_output]))\n",
    "bias = tf.Variable(tf.zeros(k_output))\n",
    "\n",
    "#apply convolution\n",
    "conv_layer  =  tf.nn.conv2d(input, weight, strides=[1,2,2,1], padding='SAME')\n",
    "\n",
    "#add bias\n",
    "conv_layer   =   tf.nn.bias_add(conv_layer, bias)\n",
    "\n",
    "#apply activation function\n",
    "conv_layer   =   tf.nn.relu(conv_layer)"
   ]
  },
  {
   "cell_type": "markdown",
   "metadata": {},
   "source": [
    "### Max Pooling"
   ]
  },
  {
   "cell_type": "code",
   "execution_count": 3,
   "metadata": {
    "collapsed": true
   },
   "outputs": [],
   "source": [
    "##tf.nn.max_pool\n",
    "\n",
    "conv_layer   =   tf.nn.max_pool(\n",
    "    conv_layer,\n",
    "    ksize = [1, 2, 2, 1],\n",
    "    strides = [1, 2, 2, 1],\n",
    "    padding = 'SAME'\n",
    ")"
   ]
  },
  {
   "cell_type": "markdown",
   "metadata": {},
   "source": [
    "#### Pooling mechanics"
   ]
  },
  {
   "attachments": {},
   "cell_type": "markdown",
   "metadata": {},
   "source": [
    "Con esta info:\n",
    "\n",
    "\n",
    "* INPUT_HEIGHT\t4\n",
    "* INPUT_WIDTH\t4\n",
    "* INPUT_DEPTH\t5\n",
    "* FILTER_HEIGHT\t2\n",
    "* FILTER_WIDTH\t2\n",
    "* FILTER_DEPTH\t0\n",
    "* P\t0\n",
    "* S\t2\n",
    "\n",
    "\n",
    "Usando las formulas:\n",
    "* new_height = (input_height - filter_height)/S + 1\n",
    "* new_width = (input_width - filter_width)/S + 1\n",
    "\n",
    "tenemos:\n",
    "\n",
    "* NEW_HEIGHT\t2\n",
    "* NEW_WIDTH\t2\n",
    "* NEW_DEPTH\t5\n",
    "\n",
    "en codigo:\n"
   ]
  },
  {
   "cell_type": "code",
   "execution_count": 5,
   "metadata": {
    "collapsed": true
   },
   "outputs": [],
   "source": [
    "input   =   tf.placeholder(tf.float32, (None, 4, 4, 5))\n",
    "filter_shape = [1, 2, 2, 1]\n",
    "strides = [1, 2, 2, 1]\n",
    "padding = 'VALID'\n",
    "pool = tf.nn.max_pool(input, filter_shape, strides, padding)"
   ]
  },
  {
   "cell_type": "code",
   "execution_count": null,
   "metadata": {
    "collapsed": true
   },
   "outputs": [],
   "source": []
  }
 ],
 "metadata": {
  "kernelspec": {
   "display_name": "Python 3",
   "language": "python",
   "name": "python3"
  },
  "language_info": {
   "codemirror_mode": {
    "name": "ipython",
    "version": 3
   },
   "file_extension": ".py",
   "mimetype": "text/x-python",
   "name": "python",
   "nbconvert_exporter": "python",
   "pygments_lexer": "ipython3",
   "version": "3.5.3"
  }
 },
 "nbformat": 4,
 "nbformat_minor": 2
}
